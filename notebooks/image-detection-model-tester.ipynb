{
 "cells": [
  {
   "cell_type": "markdown",
   "metadata": {},
   "source": [
    "# Image Detection Model Testing\n",
    "This notebook will test image detection models against captured screenshots. I plan to validate the 3 models below:\n",
    "1. https://universe.roboflow.com/d41/attack-shv5h\n",
    "2. https://universe.roboflow.com/workspace-sgzwp/diablo4_test2\n",
    "3. https://universe.roboflow.com/diablo-4-fojil/diablo-4\n",
    "\n",
    "**Update**: to run these models, you must use the api's. Instead I will extract the datasets myself, and train the models using: \n",
    "```YOLO11m```\n",
    "\n",
    "\n",
    "## Environment Setup"
   ]
  },
  {
   "cell_type": "code",
   "execution_count": null,
   "metadata": {},
   "outputs": [],
   "source": [
    "%%capture\n",
    "%pip install ultralytics"
   ]
  },
  {
   "cell_type": "markdown",
   "metadata": {},
   "source": [
    "### Force Kernel to use CUDA Device 1"
   ]
  },
  {
   "cell_type": "code",
   "execution_count": null,
   "metadata": {},
   "outputs": [],
   "source": [
    "import torch\n",
    "import os\n",
    "\n",
    "# Set the CUDA_VISIBLE_DEVICES environment variable to use GPU 1\n",
    "os.environ[\"CUDA_VISIBLE_DEVICES\"] = \"1\"\n",
    "\n",
    "# Check if CUDA is available\n",
    "if torch.cuda.is_available():\n",
    "    # Get the number of GPUs\n",
    "    num_gpus = torch.cuda.device_count()\n",
    "    print(f'Number of GPUs: {num_gpus}')\n",
    "\n",
    "    # List each GPU's name and other details\n",
    "    for i in range(num_gpus):\n",
    "        print(f'GPU {i}: {torch.cuda.get_device_name(i)}')\n",
    "else:\n",
    "    print('CUDA is not available.')\n",
    "\n",
    "# Validate the CUDA_VISIBLE_DEVICES environment variable\n",
    "print(f\"CUDA_VISIBLE_DEVICES: {os.environ.get('CUDA_VISIBLE_DEVICES')}\")\n"
   ]
  },
  {
   "cell_type": "markdown",
   "metadata": {},
   "source": [
    "## Training"
   ]
  },
  {
   "cell_type": "code",
   "execution_count": null,
   "metadata": {},
   "outputs": [],
   "source": [
    "import os\n",
    "from ultralytics import YOLO\n",
    "\n",
    "model = YOLO('yolo11m.pt')  # This downloads and loads the YOLO11m pretrained weights on device 1\n",
    "\n",
    "# Specify the path to the data configuration file (data.yaml)\n",
    "data_path = os.path.expanduser('~/Pictures/Diablo4_test2.v4i.yolov11/data.yaml')\n",
    "\n",
    "# Train the model\n",
    "# Customize the epochs, batch size, and other parameters as needed\n",
    "model.train(\n",
    "    data=data_path,       # Path to the data.yaml file\n",
    "    epochs=50,            # Number of epochs to train\n",
    "    imgsz=640,            # Image size (adjust as needed)\n",
    "    batch=12,              # Batch size (adjust based on GPU memory)\n",
    "    workers=4,            # Number of data-loading workers\n",
    ")\n",
    "\n",
    "# Create the export directory if it doesn't exist\n",
    "export_dir = os.path.expanduser('~/export')\n",
    "os.makedirs(export_dir, exist_ok=True)  # Create the directory if it doesn’t exist\n",
    "\n",
    "# Save the model weights after training\n",
    "model.save(os.path.join(export_dir, 'yolo11m_trained.pt'))"
   ]
  },
  {
   "cell_type": "markdown",
   "metadata": {},
   "source": [
    "## Inference\n",
    "Configure image outputs to be rendered in the notebook."
   ]
  },
  {
   "cell_type": "code",
   "execution_count": null,
   "metadata": {},
   "outputs": [],
   "source": [
    "%matplotlib inline"
   ]
  },
  {
   "cell_type": "code",
   "execution_count": null,
   "metadata": {},
   "outputs": [],
   "source": [
    "import os\n",
    "from ultralytics import YOLO\n",
    "\n",
    "import cv2  # image visualizations\n",
    "import matplotlib.pyplot as plt  # displaying images\n",
    "\n",
    "# Load the trained YOLO model\n",
    "model_path = os.path.expanduser('~/export/yolo11m_trained.pt')\n",
    "model = YOLO(model_path)\n",
    "\n",
    "# Specify the path to the images you want to run inference on\n",
    "image_folder = os.path.expanduser('~/Pictures/D4 capture 2024-11-06/')  # Change this to your image folder\n",
    "output_folder = os.path.expanduser('~/Pictures/D4 capture 2024-11-06/results')  # Folder to save results\n",
    "os.makedirs(output_folder, exist_ok=True)  # Create the output directory if it doesn't exist\n",
    "\n",
    "# Run inference on each image in the specified directory\n",
    "for image_filename in os.listdir(image_folder):\n",
    "    if image_filename.endswith(('.jpg', '.jpeg', '.png')):  # Adjust according to your image types\n",
    "        # Load the image\n",
    "        image_path = os.path.join(image_folder, image_filename)\n",
    "        image = cv2.imread(image_path)\n",
    "\n",
    "        # Run inference\n",
    "        results = model.predict(image)\n",
    "\n",
    "        # Process and visualize results\n",
    "        for result in results:\n",
    "            # Draw bounding boxes on the image\n",
    "            boxes = result.boxes  # Get the bounding boxes\n",
    "            for box in boxes:\n",
    "                x1, y1, x2, y2 = box.xyxy[0]  # Get the coordinates of the bounding box\n",
    "                conf = box.conf[0]  # Confidence score\n",
    "                label = box.cls[0]  # Class label\n",
    "\n",
    "                # Draw the bounding box on the image\n",
    "                image = cv2.rectangle(image, (int(x1), int(y1)), (int(x2), int(y2)), (255, 0, 0), 2)\n",
    "                image = cv2.putText(image, f'{label:.2f}', (int(x1), int(y1) - 10), cv2.FONT_HERSHEY_SIMPLEX, 0.5, (255, 0, 0), 2)\n",
    "\n",
    "        # Save or display the output image\n",
    "        output_path = os.path.join(output_folder, image_filename)\n",
    "        cv2.imwrite(output_path, image)\n",
    "\n",
    "        # Optional: Display the result\n",
    "        plt.imshow(cv2.cvtColor(image, cv2.COLOR_BGR2RGB))\n",
    "        plt.axis('off')\n",
    "        plt.show()\n"
   ]
  }
 ],
 "metadata": {
  "kernelspec": {
   "display_name": "Python 3 (ipykernel)",
   "language": "python",
   "name": "python3"
  },
  "language_info": {
   "codemirror_mode": {
    "name": "ipython",
    "version": 3
   },
   "file_extension": ".py",
   "mimetype": "text/x-python",
   "name": "python",
   "nbconvert_exporter": "python",
   "pygments_lexer": "ipython3",
   "version": "3.10.14"
  }
 },
 "nbformat": 4,
 "nbformat_minor": 2
}
