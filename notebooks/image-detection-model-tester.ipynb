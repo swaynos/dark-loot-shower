{
 "cells": [
  {
   "cell_type": "markdown",
   "metadata": {},
   "source": [
    "# Image Detection Model Testing\n",
    "This notebook will test image detection models against captured screenshots. I plan to validate the 3 models below:\n",
    "1. https://universe.roboflow.com/d41/attack-shv5h\n",
    "2. https://universe.roboflow.com/workspace-sgzwp/diablo4_test2\n",
    "3. https://universe.roboflow.com/diablo-4-fojil/diablo-4\n"
   ]
  },
  {
   "cell_type": "code",
   "execution_count": null,
   "metadata": {},
   "outputs": [],
   "source": [
    "%pip install inference-cli && inference server start"
   ]
  },
  {
   "cell_type": "code",
   "execution_count": null,
   "metadata": {},
   "outputs": [],
   "source": [
    "%%sh\n",
    "inference infer --help\n",
    "inference infer -i https://source.roboflow.com/cDUuTit29xb0T384UAZhcTts1VC3/bnwGvd5dSpb1l7EG8RIR/original.jpg --api-key xHgi8Q6c8HfVqWxLL7Rh --model_id attack-shv5h/1"
   ]
  }
 ],
 "metadata": {
  "kernelspec": {
   "display_name": "Python 3 (ipykernel)",
   "language": "python",
   "name": "python3"
  },
  "language_info": {
   "codemirror_mode": {
    "name": "ipython",
    "version": 3
   },
   "file_extension": ".py",
   "mimetype": "text/x-python",
   "name": "python",
   "nbconvert_exporter": "python",
   "pygments_lexer": "ipython3",
   "version": "3.10.14"
  }
 },
 "nbformat": 4,
 "nbformat_minor": 2
}
