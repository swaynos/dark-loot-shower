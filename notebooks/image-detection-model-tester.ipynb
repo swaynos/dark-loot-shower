{
 "cells": [
  {
   "cell_type": "markdown",
   "metadata": {},
   "source": [
    "# Image Detection Model Testing\n",
    "This notebook will test image detection models against captured screenshots. I plan to validate the 3 models below:\n",
    "1. https://universe.roboflow.com/d41/attack-shv5h\n",
    "2. https://universe.roboflow.com/workspace-sgzwp/diablo4_test2\n",
    "3. https://universe.roboflow.com/diablo-4-fojil/diablo-4\n"
   ]
  },
  {
   "cell_type": "code",
   "execution_count": null,
   "metadata": {
    "vscode": {
     "languageId": "plaintext"
    }
   },
   "outputs": [],
   "source": []
  }
 ],
 "metadata": {
  "language_info": {
   "name": "python"
  }
 },
 "nbformat": 4,
 "nbformat_minor": 2
}
