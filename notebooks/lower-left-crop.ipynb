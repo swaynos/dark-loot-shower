{
 "cells": [
  {
   "cell_type": "markdown",
   "metadata": {},
   "source": [
    "# Crop Screenshots to Lower Left\n",
    "I noticed poor performance from the trained YOLO models when presented with details from the user interface, in particular it would confuse portions of the health vial as the health bar for a mob. This will create crops of the screenshots of the lower left, and create empty label files for training."
   ]
  },
  {
   "cell_type": "code",
   "execution_count": 1,
   "metadata": {},
   "outputs": [
    {
     "name": "stdout",
     "output_type": "stream",
     "text": [
      "Lower-left cropping with empty labels completed!\n"
     ]
    }
   ],
   "source": [
    "import os\n",
    "import cv2\n",
    "\n",
    "# Paths\n",
    "image_folder = os.path.expanduser(\"~/Pictures/D4 capture 2024-11-06/scrubbing results (2024-11-15)\")\n",
    "output_folder = os.path.expanduser(\"~/Pictures/D4 capture 2024-11-06/scrubbing results (2024-11-15)/lower_left_crops\")\n",
    "os.makedirs(output_folder, exist_ok=True)\n",
    "\n",
    "# Parameters\n",
    "crop_size = 640\n",
    "\n",
    "# Process each image\n",
    "for image_file in os.listdir(image_folder):\n",
    "    if image_file.endswith(('.png', '.jpg', '.jpeg')):  # Adjust based on your file types\n",
    "        base_name = os.path.splitext(image_file)[0]\n",
    "        image_path = os.path.join(image_folder, image_file)\n",
    "\n",
    "        # Read image\n",
    "        image = cv2.imread(image_path)\n",
    "        if image is None:\n",
    "            print(f\"Error loading {image_path}. Skipping...\")\n",
    "            continue\n",
    "        height, width, _ = image.shape\n",
    "\n",
    "        # Define lower-left crop area\n",
    "        crop_x_min = 0\n",
    "        crop_y_min = max(0, height - crop_size)\n",
    "        crop_x_max = min(crop_size, width)\n",
    "        crop_y_max = height\n",
    "\n",
    "        # Extract the crop\n",
    "        crop = image[crop_y_min:crop_y_max, crop_x_min:crop_x_max]\n",
    "\n",
    "        # Save cropped image\n",
    "        crop_filename = f\"{base_name}_lower_left.png\"\n",
    "        crop_path = os.path.join(output_folder, crop_filename)\n",
    "        cv2.imwrite(crop_path, crop)\n",
    "\n",
    "        # Create empty YOLO label file\n",
    "        label_filename = f\"{base_name}_lower_left.txt\"\n",
    "        label_path = os.path.join(output_folder, label_filename)\n",
    "        with open(label_path, 'w') as lf:\n",
    "            pass  # Empty file for no annotations\n",
    "\n",
    "print(\"Lower-left cropping with empty labels completed!\")"
   ]
  }
 ],
 "metadata": {
  "kernelspec": {
   "display_name": "Python 3 (ipykernel)",
   "language": "python",
   "name": "python3"
  }
 },
 "nbformat": 4,
 "nbformat_minor": 2
}
