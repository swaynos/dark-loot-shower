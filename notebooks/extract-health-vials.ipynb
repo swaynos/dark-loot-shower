{
 "cells": [
  {
   "cell_type": "markdown",
   "metadata": {},
   "source": [
    "# Extract Health Vials from Screenshots\n",
    "Using a sample image ```../images/health-vial-mask.1440.png``` this notebook will apply the mask to screenshots and extract the health vial image.  \n",
    "<br>\n",
    "Additionally, the notebook will resize the image to a size just larger than the extracted health vial, and use a transparent background."
   ]
  },
  {
   "cell_type": "code",
   "execution_count": null,
   "metadata": {},
   "outputs": [],
   "source": [
    "%%capture\n",
    "%pip install Pillow"
   ]
  },
  {
   "cell_type": "code",
   "execution_count": null,
   "metadata": {},
   "outputs": [],
   "source": [
    "from PIL import Image\n",
    "\n",
    "def extract_masked_content(input_image_path, output_image_path, mask_image_path='../images/health-vial-mask.1440.png'):\n",
    "    # Open the input image\n",
    "    img = Image.open(input_image_path).convert(\"RGBA\")\n",
    "    \n",
    "    # Open the mask image and convert to greyscale\n",
    "    mask = Image.open(mask_image_path).convert(\"L\")  # Convert the mask to greyscale\n",
    "\n",
    "    # Create a new image by applying the mask\n",
    "    masked_data = []\n",
    "    data = img.getdata()\n",
    "\n",
    "    for index, item in enumerate(data):\n",
    "        # Get mask pixel value (0: black, 255: white)\n",
    "        mask_value = mask.getpixel((index % img.width, index // img.width))\n",
    "        \n",
    "        # If the mask pixel is white (255), keep the corresponding input image pixel\n",
    "        if mask_value < 255:  # If not white, keep the pixel\n",
    "            masked_data.append(item)  # Keep the original pixel\n",
    "        else:\n",
    "            masked_data.append((0, 0, 0, 0))  # Fully transparent pixel\n",
    "\n",
    "    # Create a new image with the masked content\n",
    "    masked_image = Image.new(\"RGBA\", img.size)\n",
    "    masked_image.putdata(masked_data)\n",
    "\n",
    "    # Find the bounding box of the non-transparent pixels\n",
    "    bbox = masked_image.getbbox()\n",
    "\n",
    "    # Crop the image to the bounding box\n",
    "    if bbox:\n",
    "        cropped_image = masked_image.crop(bbox)\n",
    "\n",
    "        # Create a new transparent image for resizing\n",
    "        max_size = max(cropped_image.size)\n",
    "        new_image = Image.new(\"RGBA\", (max_size, max_size), (0, 0, 0, 0))  # Transparent background\n",
    "\n",
    "        # Paste cropped image onto the center of the new transparent image\n",
    "        new_image.paste(cropped_image, ((max_size - cropped_image.width) // 2, (max_size - cropped_image.height) // 2))\n",
    "\n",
    "        # Save the result\n",
    "        new_image.save(output_image_path, format=\"PNG\")\n",
    "    else:\n",
    "        print(\"No visible content to extract.\")"
   ]
  },
  {
   "cell_type": "code",
   "execution_count": null,
   "metadata": {},
   "outputs": [],
   "source": [
    "import os\n",
    "\n",
    "# Define the base directories\n",
    "input_base_dir = os.path.expanduser('~/Desktop/results')\n",
    "output_base_dir = os.path.expanduser('~/Desktop/health-vials')\n",
    "\n",
    "# Create the output directory if it doesn't exist\n",
    "os.makedirs(output_base_dir, exist_ok=True)\n",
    "\n",
    "# Get a list of all files in the input directory\n",
    "all_files = os.listdir(input_base_dir)\n",
    "\n",
    "# Filter to get only PNG files\n",
    "png_image_paths = [os.path.join(input_base_dir, f) for f in all_files if f.endswith('.png')]\n",
    "\n",
    "# Process each PNG image\n",
    "for input_image_path in png_image_paths:\n",
    "    # Construct the output image path\n",
    "    output_image_path = os.path.join(output_base_dir, f'extracted_{os.path.basename(input_image_path)}')\n",
    "    \n",
    "    extract_masked_content(input_image_path, output_image_path)\n",
    "    print(f'Processing {input_image_path} => {output_image_path}')"
   ]
  }
 ],
 "metadata": {
  "kernelspec": {
   "display_name": "jupyter",
   "language": "python",
   "name": "python3"
  },
  "language_info": {
   "codemirror_mode": {
    "name": "ipython",
    "version": 3
   },
   "file_extension": ".py",
   "mimetype": "text/x-python",
   "name": "python",
   "nbconvert_exporter": "python",
   "pygments_lexer": "ipython3",
   "version": "3.10.14"
  }
 },
 "nbformat": 4,
 "nbformat_minor": 2
}
