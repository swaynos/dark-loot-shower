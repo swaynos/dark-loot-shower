{
 "cells": [
  {
   "cell_type": "markdown",
   "metadata": {},
   "source": [
    "# Prepare Data for Label Studio Import\n",
    "\n",
    "This script prepares data for import into Label Studio. It converts YOLO labels into the Label Studio JSON format and creates a JSON file that can be imported into Label Studio.\n",
    "\n",
    "## Usage\n",
    "\n",
    "1. Place your YOLO labels and images in the same directory.\n",
    "2. Create a `classes.txt` file containing the names of the classes in your dataset, one per line.\n",
    "3. Run the notebook, changing the directory paths as needed.\n",
    "\n",
    "### Launch Label Studio"
   ]
  },
  {
   "cell_type": "code",
   "execution_count": null,
   "metadata": {},
   "outputs": [],
   "source": [
    "%%sh\n",
    "pip install label-studio\n",
    "label-studio"
   ]
  },
  {
   "cell_type": "markdown",
   "metadata": {},
   "source": [
    "## Convert YOLO Labels into Label Studio Format\n",
    "Existing YOLO labels are generated in the YOLO txt specification. This will convert them into the Label Studio JSON format."
   ]
  },
  {
   "cell_type": "code",
   "execution_count": null,
   "metadata": {},
   "outputs": [],
   "source": [
    "import os\n",
    "import json\n",
    "\n",
    "def yolo_to_label_studio(yolo_dir, output_json, classes_file):\n",
    "    with open(classes_file, 'r') as f:\n",
    "        class_names = f.read().strip().splitlines()\n",
    "    \n",
    "    result = []\n",
    "    for label_file in os.listdir(yolo_dir):\n",
    "        if label_file.endswith('.txt'):\n",
    "            base_name = os.path.splitext(label_file)[0]\n",
    "            # Create the image URL\n",
    "            image_url = f\"http://localhost:8081/{base_name}.png\"\n",
    "            label_path = os.path.join(yolo_dir, label_file)\n",
    "\n",
    "            with open(label_path, 'r') as f:\n",
    "                annotations = []\n",
    "                for line in f:\n",
    "                    class_id, x_center, y_center, width, height = map(float, line.split())\n",
    "                    annotations.append({\n",
    "                        \"from_name\": \"label\",\n",
    "                        \"to_name\": \"image\",\n",
    "                        \"type\": \"rectanglelabels\",\n",
    "                        \"value\": {\n",
    "                            \"x\": (x_center - width / 2) * 100,\n",
    "                            \"y\": (y_center - height / 2) * 100,\n",
    "                            \"width\": width * 100,\n",
    "                            \"height\": height * 100,\n",
    "                            \"rectanglelabels\": [class_names[int(class_id)]]\n",
    "                        }\n",
    "                    })\n",
    "\n",
    "                result.append({\n",
    "                    \"data\": {\"image\": image_url},  # Use URL instead of local file path\n",
    "                    \"annotations\": [{\"result\": annotations}]\n",
    "                })\n",
    "\n",
    "    with open(output_json, 'w') as f:\n",
    "        json.dump(result, f, indent=4)\n",
    "\n",
    "# Paths\n",
    "yolo_dir = os.path.expanduser(\"~/Desktop/results/labels\")\n",
    "output_json = os.path.expanduser(\"~/Desktop/results/label-studio.json\")\n",
    "classes_file = os.path.expanduser(\"~/Desktop/results/classes.txt\")\n",
    "\n",
    "yolo_to_label_studio(yolo_dir, output_json, classes_file)"
   ]
  },
  {
   "cell_type": "markdown",
   "metadata": {},
   "source": [
    "## Host HTTP Server Locally for Image Files"
   ]
  },
  {
   "cell_type": "code",
   "execution_count": null,
   "metadata": {},
   "outputs": [],
   "source": [
    "%%capture\n",
    "%pip install Flask Flask-CORS"
   ]
  },
  {
   "cell_type": "code",
   "execution_count": null,
   "metadata": {},
   "outputs": [],
   "source": [
    "from flask import Flask, send_from_directory\n",
    "from flask_cors import CORS\n",
    "import threading\n",
    "import os\n",
    "\n",
    "app = Flask(__name__)\n",
    "CORS(app)  # Enable CORS for all routes\n",
    "\n",
    "# Define the directory to serve files from\n",
    "directory_to_serve = os.path.expanduser(\"~/Desktop/results\")\n",
    "\n",
    "@app.route('/<path:filename>', methods=['GET'])\n",
    "def serve_image(filename):\n",
    "    return send_from_directory(directory_to_serve, filename)\n",
    "\n",
    "# Function to run the server\n",
    "def run_server():\n",
    "    app.run(host='0.0.0.0', port=8081)  # Bind to all interfaces\n",
    "\n",
    "# Start the server in a new thread\n",
    "threading.Thread(target=run_server).start()"
   ]
  }
 ],
 "metadata": {
  "kernelspec": {
   "display_name": "jupyter",
   "language": "python",
   "name": "python3"
  },
  "language_info": {
   "codemirror_mode": {
    "name": "ipython",
    "version": 3
   },
   "file_extension": ".py",
   "mimetype": "text/x-python",
   "name": "python",
   "nbconvert_exporter": "python",
   "pygments_lexer": "ipython3",
   "version": "3.10.14"
  }
 },
 "nbformat": 4,
 "nbformat_minor": 2
}
