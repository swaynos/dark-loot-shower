{
 "cells": [
  {
   "cell_type": "markdown",
   "metadata": {},
   "source": [
    "# Test/Train/Valid Split from Directory\n",
    "Assumes screenshots and labels in the same directory."
   ]
  },
  {
   "cell_type": "code",
   "execution_count": 4,
   "metadata": {},
   "outputs": [
    {
     "name": "stdout",
     "output_type": "stream",
     "text": [
      "Dataset splitting completed!\n"
     ]
    }
   ],
   "source": [
    "import os\n",
    "import random\n",
    "import shutil\n",
    "\n",
    "# Paths\n",
    "data_dir = os.path.expanduser(\"~/Desktop/lower_left_crops\")  # Directory containing all files\n",
    "output_dir = os.path.expanduser(\"~/Downloads/Diablo4.v2a.yolov11_split\")  # Output directory for subsets\n",
    "os.makedirs(output_dir, exist_ok=True)\n",
    "\n",
    "# Subset ratios\n",
    "train_ratio = 0.7\n",
    "valid_ratio = 0.2\n",
    "test_ratio = 0.1\n",
    "\n",
    "# Subset paths\n",
    "train_dir = os.path.join(output_dir, \"train\")\n",
    "valid_dir = os.path.join(output_dir, \"valid\")\n",
    "test_dir = os.path.join(output_dir, \"test\")\n",
    "os.makedirs(train_dir, exist_ok=True)\n",
    "os.makedirs(valid_dir, exist_ok=True)\n",
    "os.makedirs(test_dir, exist_ok=True)\n",
    "\n",
    "# Helper function to get the matching label file for an image\n",
    "def get_label_file(image_file):\n",
    "    base_name, ext = os.path.splitext(image_file)\n",
    "    return f\"{base_name}.txt\"\n",
    "\n",
    "# Get all image files\n",
    "all_image_files = [f for f in os.listdir(data_dir) if f.endswith(('.png', '.jpg', '.jpeg'))]\n",
    "\n",
    "# Shuffle files\n",
    "random.shuffle(all_image_files)\n",
    "\n",
    "# Split files\n",
    "train_cutoff = int(len(all_image_files) * train_ratio)\n",
    "valid_cutoff = train_cutoff + int(len(all_image_files) * valid_ratio)\n",
    "\n",
    "train_files = all_image_files[:train_cutoff]\n",
    "valid_files = all_image_files[train_cutoff:valid_cutoff]\n",
    "test_files = all_image_files[valid_cutoff:]\n",
    "\n",
    "# Function to copy images and their labels\n",
    "def copy_files(subset_files, subset_dir):\n",
    "    for image_file in subset_files:\n",
    "        image_path = os.path.join(data_dir, image_file)\n",
    "        label_file = get_label_file(image_file)\n",
    "        label_path = os.path.join(data_dir, label_file)\n",
    "\n",
    "        # Copy image\n",
    "        shutil.copy(image_path, os.path.join(subset_dir, image_file))\n",
    "        # Copy label if it exists\n",
    "        if os.path.exists(label_path):\n",
    "            shutil.copy(label_path, os.path.join(subset_dir, label_file))\n",
    "\n",
    "# Copy files to subsets\n",
    "copy_files(train_files, train_dir)\n",
    "copy_files(valid_files, valid_dir)\n",
    "copy_files(test_files, test_dir)\n",
    "\n",
    "print(\"Dataset splitting completed!\")\n"
   ]
  }
 ],
 "metadata": {
  "kernelspec": {
   "display_name": "jupyter",
   "language": "python",
   "name": "python3"
  },
  "language_info": {
   "codemirror_mode": {
    "name": "ipython",
    "version": 3
   },
   "file_extension": ".py",
   "mimetype": "text/x-python",
   "name": "python",
   "nbconvert_exporter": "python",
   "pygments_lexer": "ipython3",
   "version": "3.10.14"
  }
 },
 "nbformat": 4,
 "nbformat_minor": 2
}
